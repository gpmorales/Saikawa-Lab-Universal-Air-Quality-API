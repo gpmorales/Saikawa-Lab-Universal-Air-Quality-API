{
 "cells": [
  {
   "cell_type": "code",
   "execution_count": 1,
   "metadata": {},
   "outputs": [],
   "source": [
    "import os\n",
    "from pdf2image import convert_from_path\n",
    "from PIL import Image"
   ]
  },
  {
   "cell_type": "code",
   "execution_count": 2,
   "metadata": {},
   "outputs": [],
   "source": [
    "input_directory = os.path.expanduser(\"~/Desktop/infographics_saikawa/pdf\")\n",
    "output_directory = os.path.expanduser(\"~/Desktop/infographics_saikawa/png\")\n",
    "os.makedirs(output_directory, exist_ok=True)"
   ]
  },
  {
   "cell_type": "code",
   "execution_count": 3,
   "metadata": {},
   "outputs": [],
   "source": [
    "def combine_images(images, output_path):\n",
    "    widths, heights = zip(*(i.size for i in images))\n",
    "    \n",
    "    total_height = sum(heights)\n",
    "    max_width = max(widths)\n",
    "\n",
    "    combined_image = Image.new('RGB', (max_width, total_height))\n",
    "\n",
    "    y_offset = 0\n",
    "    for img in images:\n",
    "        combined_image.paste(img, (0, y_offset))\n",
    "        y_offset += img.height\n",
    "\n",
    "    combined_image.save(output_path, 'PNG')"
   ]
  },
  {
   "cell_type": "code",
   "execution_count": 4,
   "metadata": {},
   "outputs": [],
   "source": [
    "def convert_pdf_to_images(pdf_path, output_dir):\n",
    "    # Convert PDF to a list of image objects\n",
    "    images = convert_from_path(pdf_path, poppler_path=r'/Users/wenyuanhuizi/anaconda3/bin/')\n",
    "    base_filename = os.path.splitext(os.path.basename(pdf_path))[0]\n",
    "\n",
    "    # Save each image object as a separate file\n",
    "\n",
    "    output_path = os.path.join(output_dir, f\"{base_filename}.png\")\n",
    "    combine_images(images, output_path)\n",
    "    print(f\"Saved {output_path}\")"
   ]
  },
  {
   "cell_type": "code",
   "execution_count": 5,
   "metadata": {},
   "outputs": [],
   "source": [
    "def main():\n",
    "    # List all PDF files in the input directory\n",
    "    pdf_files = [f for f in os.listdir(input_directory) if f.lower().endswith(\".pdf\")]\n",
    "\n",
    "    # Convert each PDF file to images\n",
    "    for pdf_file in pdf_files:\n",
    "        pdf_path = os.path.join(input_directory, pdf_file)\n",
    "        convert_pdf_to_images(pdf_path, output_directory)"
   ]
  },
  {
   "cell_type": "code",
   "execution_count": 6,
   "metadata": {},
   "outputs": [
    {
     "name": "stdout",
     "output_type": "stream",
     "text": [
      "Saved /Users/wenyuanhuizi/Desktop/infographics_saikawa/png/Balotin_GardenerKnowledge_infographic_SaikawaLab.png\n",
      "Saved /Users/wenyuanhuizi/Desktop/infographics_saikawa/png/Distler infographic_SaikawaLab.png\n"
     ]
    }
   ],
   "source": [
    "main()"
   ]
  }
 ],
 "metadata": {
  "kernelspec": {
   "display_name": "base",
   "language": "python",
   "name": "python3"
  },
  "language_info": {
   "codemirror_mode": {
    "name": "ipython",
    "version": 3
   },
   "file_extension": ".py",
   "mimetype": "text/x-python",
   "name": "python",
   "nbconvert_exporter": "python",
   "pygments_lexer": "ipython3",
   "version": "3.11.5"
  }
 },
 "nbformat": 4,
 "nbformat_minor": 2
}
